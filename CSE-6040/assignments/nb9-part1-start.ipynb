{
    "cells": [
        {
            "cell_type": "markdown",
            "metadata": {
                "deletable": false,
                "nbgrader": {
                    "grade": false,
                    "locked": true,
                    "solution": false
                },
                "nbpresent": {
                    "id": "ac05e2a5-19d3-459a-be72-15ac33423f4f"
                },
                "editable": false
            },
            "source": [
                "# Part 1: NYC 311 calls\n",
                "\n",
                "This notebook derives from a [demo by the makers of plot.ly](https:\/\/plot.ly\/ipython-notebooks\/big-data-analytics-with-pandas-and-sqlite\/). We've adapted it to use [Bokeh (and HoloViews)](http:\/\/bokeh.pydata.org\/en\/latest\/).\n",
                "\n",
                "You will start with a large database of complaints filed by residents of New York City via 311 calls. The full dataset is available at the [NYC open data portal](https:\/\/data.cityofnewyork.us\/Social-Services\/311-Service-Requests-from-2010-to-Present\/erm2-nwe9). Our subset is about 6 GB and 10 million complaints, so you can infer that a) you might not want to read it all into memory at once, and b) NYC residents have a lot to complain about. (Maybe only conclusion \"a\" is valid.) The notebook then combines the use of `sqlite`, `pandas`, and `bokeh`."
            ]
        },
        {
            "cell_type": "markdown",
            "metadata": {
                "deletable": false,
                "nbgrader": {
                    "grade": false,
                    "locked": true,
                    "solution": false
                },
                "editable": false
            },
            "source": [
                "## Module setup\n",
                "\n",
                "Before diving in, run the following cells to preload some functions you'll need later. These include a few functions from Notebook 7."
            ]
        },
        {
            "cell_type": "code",
            "execution_count": 1,
            "metadata": {
                "deletable": false,
                "nbgrader": {
                    "grade": false,
                    "locked": true,
                    "solution": false
                },
                "nbpresent": {
                    "id": "19cc7eb8-4336-46cc-b3e3-fe64f194fc73"
                },
                "editable": false
            },
            "outputs": [],
            "source": [
                "import sys\n",
                "print(sys.version) # Print Python version -- On Vocareum, it should be 3.7+\n",
                "\n",
                "from IPython.display import display\n",
                "import pandas as pd\n",
                "\n",
                "from nb7utils import canonicalize_tibble, tibbles_are_equivalent, cast"
            ]
        },
        {
            "cell_type": "markdown",
            "metadata": {
                "deletable": false,
                "nbgrader": {
                    "grade": false,
                    "locked": true,
                    "solution": false
                },
                "editable": false
            },
            "source": [
                "Lastly, some of the test cells will need some auxiliary files, which the following code cell will check for and, if they are missing, download."
            ]
        },
        {
            "cell_type": "code",
            "execution_count": 2,
            "metadata": {
                "deletable": false,
                "nbgrader": {
                    "grade": false,
                    "locked": true,
                    "solution": false
                },
                "editable": false
            },
            "outputs": [],
            "source": [
                "from nb9utils import download, get_path, auxfiles\n",
                "\n",
                "for filename, checksum in auxfiles.items():\n",
                "    download(filename, checksum=checksum, url_suffix=\"lab9-sql\/\")\n",
                "    \n",
                "print(\"(Auxiliary files appear to be ready.)\")"
            ]
        },
        {
            "cell_type": "markdown",
            "metadata": {
                "deletable": false,
                "nbgrader": {
                    "grade": false,
                    "locked": true,
                    "solution": false
                },
                "nbpresent": {
                    "id": "e1cd3bf9-e15d-4d7a-98d0-33ba5f0d3bc8"
                },
                "editable": false
            },
            "source": [
                "## Viz setup\n",
                "\n",
                "This notebook includes some simple visualizations. This section just ensures you have the right software setup to follow along."
            ]
        },
        {
            "cell_type": "code",
            "execution_count": 3,
            "metadata": {
                "collapsed": true,
                "deletable": false,
                "nbgrader": {
                    "grade": false,
                    "locked": true,
                    "solution": false
                },
                "editable": false
            },
            "outputs": [],
            "source": [
                "from nb9utils import make_barchart, make_stacked_barchart\n",
                "from bokeh.io import show"
            ]
        },
        {
            "cell_type": "code",
            "execution_count": 4,
            "metadata": {
                "deletable": false,
                "nbgrader": {
                    "grade": false,
                    "locked": true,
                    "solution": false
                },
                "editable": false
            },
            "outputs": [],
            "source": [
                "def demo_bar():\n",
                "    from bokeh.plotting import figure\n",
                "    from bokeh.models import ColumnDataSource\n",
                "    data = [\n",
                "        ['201720', 'cat1', 20],\n",
                "        ['201720', 'cat2', 30],\n",
                "        ['201720', 'cat3', 40],\n",
                "        ['201721', 'cat1', 20],\n",
                "        ['201721', 'cat2', 0],\n",
                "        ['201721', 'cat3', 40],\n",
                "        ['201722', 'cat1', 50],\n",
                "        ['201722', 'cat2', 60],\n",
                "        ['201722', 'cat3', 10],\n",
                "    ]\n",
                "    df = pd.DataFrame(data, columns=['week', 'category', 'count'])\n",
                "    pt = df.pivot('week', 'category', 'count')\n",
                "    pt.cumsum(axis=1)\n",
                "    return df, pt\n",
                "\n",
                "df_demo, pt_demo = demo_bar()\n",
                "pt_demo"
            ]
        },
        {
            "cell_type": "code",
            "execution_count": 5,
            "metadata": {
                "deletable": false,
                "nbgrader": {
                    "grade": false,
                    "locked": true,
                    "solution": false
                },
                "editable": false
            },
            "outputs": [],
            "source": [
                "def demo_stacked_bar(pt):\n",
                "    from bokeh.models.ranges import FactorRange\n",
                "    from bokeh.io import show\n",
                "    from bokeh.plotting import figure\n",
                "    p = figure(title=\"count\",\n",
                "               x_axis_label='week', y_axis_label='category',\n",
                "               x_range = FactorRange(factors=list(pt.index)),\n",
                "               plot_height=500, plot_width=800)\n",
                "    p.vbar(x=pt.index, bottom=0, top=pt.cat1, width=0.2, color='red', legend='cat1')\n",
                "    p.vbar(x=pt.index, bottom=pt.cat1, top=pt.cat2+pt.cat1, width=0.2, color='blue', legend='cat2')\n",
                "    p.vbar(x=pt.index, bottom=pt.cat2+pt.cat1,top=pt.cat3+pt.cat2+pt.cat1, width=0.2, color='green', legend='cat3')\n",
                "    return p\n",
                "    \n",
                "show(demo_stacked_bar(pt_demo))"
            ]
        },
        {
            "cell_type": "code",
            "execution_count": 6,
            "metadata": {
                "deletable": false,
                "nbgrader": {
                    "grade": false,
                    "locked": true,
                    "solution": false
                },
                "nbpresent": {
                    "id": "44a7ba22-db47-4da9-bf5c-1fae5abe3119"
                },
                "scrolled": true,
                "editable": false
            },
            "outputs": [],
            "source": [
                "# Build a Pandas data frame\n",
                "names = ['Bob','Jessica','Mary','John','Mel']\n",
                "births = [968, 155, 77, 578, 973]\n",
                "name_birth_pairs = list(zip(names, births))\n",
                "baby_names = pd.DataFrame(data=name_birth_pairs, columns=['Names', 'Births'])\n",
                "display(baby_names)"
            ]
        },
        {
            "cell_type": "code",
            "execution_count": 7,
            "metadata": {
                "deletable": false,
                "nbgrader": {
                    "grade": false,
                    "locked": true,
                    "solution": false
                },
                "nbpresent": {
                    "id": "11732f28-b968-4f34-95fe-df6198342524"
                },
                "editable": false
            },
            "outputs": [],
            "source": [
                "p = make_barchart(baby_names, 'Names', 'Births', kwargs_figure={'plot_width': 640, 'plot_height': 320})\n",
                "show(p)"
            ]
        },
        {
            "cell_type": "markdown",
            "metadata": {
                "deletable": false,
                "nbgrader": {
                    "grade": false,
                    "locked": true,
                    "solution": false
                },
                "editable": false
            },
            "source": [
                "## Data setup\n",
                "\n",
                "You'll also need the NYC 311 calls dataset. What we've provided is actually a small subset (about 250+ MiB) of the full data as of 2015.\n",
                "\n",
                "> If you are not running on Vocareum, you will need to download this file manually from the following link and place it locally in a (nested) subdirectory or folder named `resource\/asnlib\/publicdata`.\n",
                ">\n",
                "> [Link to the pre-constructed NYC 311 Database on MS OneDrive](https:\/\/onedrive.live.com\/download?cid=FD520DDC6BE92730&resid=FD520DDC6BE92730%21616&authkey=AEeP_4E1uh-vyDE)"
            ]
        },
        {
            "cell_type": "code",
            "execution_count": 8,
            "metadata": {
                "deletable": false,
                "nbgrader": {
                    "grade": false,
                    "locked": true,
                    "solution": false
                },
                "editable": false
            },
            "outputs": [],
            "source": [
                "from nb9utils import download_nyc311db\n",
                "DB_FILENAME = download_nyc311db()"
            ]
        },
        {
            "cell_type": "markdown",
            "metadata": {
                "deletable": false,
                "nbgrader": {
                    "grade": false,
                    "locked": true,
                    "solution": false
                },
                "editable": false
            },
            "source": [
                "**Connecting.** Let's open up a connection to this dataset."
            ]
        },
        {
            "cell_type": "code",
            "execution_count": 9,
            "metadata": {
                "collapsed": true,
                "deletable": false,
                "nbgrader": {
                    "grade": false,
                    "locked": true,
                    "solution": false
                },
                "nbpresent": {
                    "id": "e2134172-76ad-4ffb-86c9-161df8a53355"
                },
                "editable": false
            },
            "outputs": [],
            "source": [
                "# Connect\n",
                "import sqlite3 as db\n",
                "disk_engine = db.connect('file:{}?mode=ro'.format(DB_FILENAME), uri=True)"
            ]
        },
        {
            "cell_type": "markdown",
            "metadata": {
                "deletable": false,
                "nbgrader": {
                    "grade": false,
                    "locked": true,
                    "solution": false
                },
                "nbpresent": {
                    "id": "31873b5c-d2fc-4d92-853a-9a4bb84b0510"
                },
                "editable": false
            },
            "source": [
                "**Preview the data.** This sample database has just a single table, named `data`. Let's query it and see how long it takes to read. To carry out the query, we will use the SQL reader built into `pandas`."
            ]
        },
        {
            "cell_type": "code",
            "execution_count": 10,
            "metadata": {
                "deletable": false,
                "nbgrader": {
                    "grade": false,
                    "locked": true,
                    "solution": false
                },
                "nbpresent": {
                    "id": "f6dbf63b-4745-4f56-8d73-d4ce71e68f7c"
                },
                "editable": false
            },
            "outputs": [],
            "source": [
                "import time\n",
                "\n",
                "print (\"Reading ...\")\n",
                "start_time = time.time ()\n",
                "\n",
                "# Perform SQL query through the disk_engine connection.\n",
                "# The return value is a pandas data frame.\n",
                "df = pd.read_sql_query ('select * from data', disk_engine)\n",
                "\n",
                "elapsed_time = time.time () - start_time\n",
                "print (\"==> Took %g seconds.\" % elapsed_time)\n",
                "\n",
                "# Dump the first few rows\n",
                "df.head()"
            ]
        },
        {
            "cell_type": "markdown",
            "metadata": {
                "deletable": false,
                "nbgrader": {
                    "grade": false,
                    "locked": true,
                    "solution": false
                },
                "nbpresent": {
                    "id": "90bcd6d3-b28a-4d65-8967-1fe09939c407"
                },
                "editable": false
            },
            "source": [
                "**Partial queries: `LIMIT` clause.** The preceding command was overkill for what we wanted, which was just to preview the table. Instead, we could have used the `LIMIT` option to ask for just a few results."
            ]
        },
        {
            "cell_type": "code",
            "execution_count": 11,
            "metadata": {
                "deletable": false,
                "nbgrader": {
                    "grade": false,
                    "locked": true,
                    "solution": false
                },
                "nbpresent": {
                    "id": "d2e06725-6f72-4b90-858c-80861cd77086"
                },
                "editable": false
            },
            "outputs": [],
            "source": [
                "query = '''\n",
                "  SELECT *\n",
                "    FROM data\n",
                "    LIMIT 5\n",
                "'''\n",
                "start_time = time.time ()\n",
                "df = pd.read_sql_query (query, disk_engine)\n",
                "elapsed_time = time.time () - start_time\n",
                "print (\"==> LIMIT version took %g seconds.\" % elapsed_time)\n",
                "\n",
                "df"
            ]
        },
        {
            "cell_type": "markdown",
            "metadata": {
                "deletable": false,
                "nbgrader": {
                    "grade": false,
                    "locked": true,
                    "solution": false
                },
                "nbpresent": {
                    "id": "35d500f1-b17b-48cf-ab12-1267d8aeb485"
                },
                "editable": false
            },
            "source": [
                "**Finding unique values: `DISTINCT` qualifier.** Another common idiom is to ask for the unique values of some attribute, for which you can use the `DISTINCT` qualifier."
            ]
        },
        {
            "cell_type": "code",
            "execution_count": 12,
            "metadata": {
                "deletable": false,
                "nbgrader": {
                    "grade": false,
                    "locked": true,
                    "solution": false
                },
                "nbpresent": {
                    "id": "a9206a4f-7d5e-4055-9221-cbd3c52fd6e2"
                },
                "editable": false
            },
            "outputs": [],
            "source": [
                "query = 'SELECT DISTINCT City FROM data'\n",
                "df = pd.read_sql_query(query, disk_engine)\n",
                "\n",
                "print(\"Found {} unique cities. The first few are:\".format(len(df)))\n",
                "df.head()"
            ]
        },
        {
            "cell_type": "markdown",
            "metadata": {
                "deletable": false,
                "nbgrader": {
                    "grade": false,
                    "locked": true,
                    "solution": false
                },
                "editable": false
            },
            "source": [
                "However, `DISTINCT` applied to strings is case-sensitive. We'll deal with that momentarily."
            ]
        },
        {
            "cell_type": "markdown",
            "metadata": {
                "deletable": false,
                "nbgrader": {
                    "grade": false,
                    "locked": true,
                    "solution": false
                },
                "nbpresent": {
                    "id": "202da090-d21b-4e0c-ab74-e82da32305a6"
                },
                "editable": false
            },
            "source": [
                "**Grouping Information: GROUP BY operator.** The GROUP BY operator lets you group information using a particular column or multiple columns of the table. The output generated is more of a pivot table."
            ]
        },
        {
            "cell_type": "code",
            "execution_count": 13,
            "metadata": {
                "deletable": false,
                "nbgrader": {
                    "grade": false,
                    "locked": true,
                    "solution": false
                },
                "nbpresent": {
                    "id": "07d42c35-bfc1-4083-b851-af26039ab7d0"
                },
                "scrolled": true,
                "editable": false
            },
            "outputs": [],
            "source": [
                "query = '''\n",
                "  SELECT ComplaintType, Descriptor, Agency\n",
                "    FROM data\n",
                "    GROUP BY ComplaintType\n",
                "'''\n",
                "\n",
                "df = pd.read_sql_query(query, disk_engine)\n",
                "print(df.shape)\n",
                "df.head()\n"
            ]
        },
        {
            "cell_type": "markdown",
            "metadata": {
                "deletable": false,
                "nbgrader": {
                    "grade": false,
                    "locked": true,
                    "solution": false
                },
                "editable": false
            },
            "source": [
                "**`GROUP BY` aggregations.** A common pattern is to combine grouping with aggregation. For example, suppose we want to count how many times each complaint occurs. Here is one way to do it."
            ]
        },
        {
            "cell_type": "code",
            "execution_count": 14,
            "metadata": {
                "deletable": false,
                "nbgrader": {
                    "grade": false,
                    "locked": true,
                    "solution": false
                },
                "editable": false
            },
            "outputs": [],
            "source": [
                "query = '''\n",
                "  SELECT ComplaintType, COUNT(*)\n",
                "    FROM data\n",
                "    GROUP BY ComplaintType\n",
                "    LIMIT 10\n",
                "'''\n",
                "\n",
                "df = pd.read_sql_query(query, disk_engine)\n",
                "df.head()"
            ]
        },
        {
            "cell_type": "markdown",
            "metadata": {
                "deletable": false,
                "nbgrader": {
                    "grade": false,
                    "locked": true,
                    "solution": false
                },
                "editable": false
            },
            "source": [
                "**Character-case conversions.** From the two preceding examples, observe that the strings employ a mix of case conventions (i.e., lowercase vs. uppercase vs. mixed case). A convenient way to query and \"normalize\" case is to apply SQL's `UPPER()` and `LOWER()` functions. Here is an example:"
            ]
        },
        {
            "cell_type": "code",
            "execution_count": 15,
            "metadata": {
                "deletable": false,
                "nbgrader": {
                    "grade": false,
                    "locked": true,
                    "solution": false
                },
                "editable": false
            },
            "outputs": [],
            "source": [
                "query = '''\n",
                "  SELECT LOWER(ComplaintType), LOWER(Descriptor), LOWER(Agency)\n",
                "    FROM data\n",
                "    GROUP BY LOWER(ComplaintType)\n",
                "    LIMIT 10\n",
                "'''\n",
                "\n",
                "df = pd.read_sql_query(query, disk_engine)\n",
                "df.head()"
            ]
        },
        {
            "cell_type": "markdown",
            "metadata": {
                "deletable": false,
                "nbgrader": {
                    "grade": false,
                    "locked": true,
                    "solution": false
                },
                "editable": false
            },
            "source": [
                "**Filtered aggregations: `HAVING` clauses.** A common pattern for aggregation queries (e.g., `GROUP BY` plus `COUNT()`) is to filter the grouped results. You cannot do that with a `WHERE` clause alone, because `WHERE` is applied *before* grouping.\n",
                "\n",
                "As an example, recall that some `ComplaintType` values are in all uppercase whereas some use mixed case. Since we didn't inspect all of them, there might even be some are all lowercase. Worse, you would expect some inconsistencies. For instance, it turns out that both `\"Plumbing\"` (mixed case) and `\"PLUMBING\"` (all caps) appear. Here is a pair of queries that makes this point."
            ]
        },
        {
            "cell_type": "code",
            "execution_count": 16,
            "metadata": {
                "deletable": false,
                "nbgrader": {
                    "grade": false,
                    "locked": true,
                    "solution": false
                },
                "editable": false
            },
            "outputs": [],
            "source": [
                "query0 = \"SELECT DISTINCT ComplaintType FROM data\"\n",
                "df0 = pd.read_sql_query(query0, disk_engine)\n",
                "print(\"Found {} unique `ComplaintType` strings.\".format(len(df0)))\n",
                "display(df0.head())\n",
                "\n",
                "query1 = \"SELECT DISTINCT LOWER(ComplaintType) FROM data\"\n",
                "df1 = pd.read_sql_query(query1, disk_engine)\n",
                "print(\"\\nFound {} unique `LOWER(ComplaintType)` strings.\".format(len(df1)))\n",
                "display(df1.head())\n",
                "\n",
                "print(\"\\n==> Therefore, there are {} cases that are duplicated. Which ones?\".format(len(df0) - len(df1)))"
            ]
        },
        {
            "cell_type": "markdown",
            "metadata": {
                "deletable": false,
                "nbgrader": {
                    "grade": false,
                    "locked": true,
                    "solution": false
                },
                "editable": false
            },
            "source": [
                "What if we wanted a query that identifies these inconsistent capitalizations? Here is one way to do it, which demonstrates the `HAVING` clause. (It also uses a **nested query**, that is, it performs one query and then selects immediately from that result.) Can you read it and figure out what it is doing and why it works?"
            ]
        },
        {
            "cell_type": "code",
            "execution_count": 17,
            "metadata": {
                "deletable": false,
                "nbgrader": {
                    "grade": false,
                    "locked": true,
                    "solution": false
                },
                "editable": false
            },
            "outputs": [],
            "source": [
                "query2 = '''\n",
                "    SELECT ComplaintType, COUNT(*)\n",
                "      FROM (SELECT DISTINCT ComplaintType FROM data)\n",
                "      GROUP BY LOWER(ComplaintType)\n",
                "      HAVING COUNT(*) >= 2\n",
                "'''\n",
                "df2 = pd.read_sql_query(query2, disk_engine)\n",
                "df2"
            ]
        },
        {
            "cell_type": "markdown",
            "metadata": {
                "deletable": false,
                "nbgrader": {
                    "grade": false,
                    "locked": true,
                    "solution": false
                },
                "editable": false
            },
            "source": [
                "You should see that \"elevator\" and \"plumbing\" complaints use inconsistent case, which we can then verify directly using the next technique, the `IN` operator."
            ]
        },
        {
            "cell_type": "markdown",
            "metadata": {
                "deletable": false,
                "nbgrader": {
                    "grade": false,
                    "locked": true,
                    "solution": false
                },
                "nbpresent": {
                    "id": "de9b4364-16ef-4c59-8d9a-1c6749c93f19"
                },
                "editable": false
            },
            "source": [
                "**Set membership: `IN` operator.** Another common idiom is to ask for rows whose attributes fall within a set, for which you can use the `IN` operator. Let's use it to see the two inconsistent-capitalization complaint types from above."
            ]
        },
        {
            "cell_type": "code",
            "execution_count": 18,
            "metadata": {
                "deletable": false,
                "nbgrader": {
                    "grade": false,
                    "locked": true,
                    "solution": false
                },
                "editable": false
            },
            "outputs": [],
            "source": [
                "query = '''\n",
                "    SELECT DISTINCT ComplaintType\n",
                "      FROM data\n",
                "      WHERE LOWER(ComplaintType) IN (\"plumbing\", \"elevator\")\n",
                "'''\n",
                "df = pd.read_sql_query(query, disk_engine)\n",
                "df.head()"
            ]
        },
        {
            "cell_type": "markdown",
            "metadata": {
                "deletable": false,
                "nbgrader": {
                    "grade": false,
                    "locked": true,
                    "solution": false
                },
                "nbpresent": {
                    "id": "b1c2afab-abbf-47c7-9938-7aa36d3382d7"
                },
                "editable": false
            },
            "source": [
                "**Renaming columns: `AS` operator.** Sometimes you might want to rename a result column. For instance, the following query counts the number of complaints by \"Agency,\" using the `COUNT(*)` function and `GROUP BY` clause, which we discussed in an earlier lab. If you wish to refer to the counts column of the resulting data frame, you can give it a more \"friendly\" name using the `AS` operator."
            ]
        },
        {
            "cell_type": "code",
            "execution_count": 19,
            "metadata": {
                "deletable": false,
                "nbgrader": {
                    "grade": false,
                    "locked": true,
                    "solution": false
                },
                "nbpresent": {
                    "id": "9b495c9d-28a8-4074-a2ff-43e5481a9d5f"
                },
                "editable": false
            },
            "outputs": [],
            "source": [
                "query = '''\n",
                "  SELECT Agency, COUNT(*) AS NumComplaints\n",
                "    FROM data\n",
                "    GROUP BY Agency\n",
                "'''\n",
                "df = pd.read_sql_query(query, disk_engine)\n",
                "df.head()"
            ]
        },
        {
            "cell_type": "markdown",
            "metadata": {
                "deletable": false,
                "nbgrader": {
                    "grade": false,
                    "locked": true,
                    "solution": false
                },
                "nbpresent": {
                    "id": "b27b5f58-ffc9-4e1c-bf5b-76149575dfa5"
                },
                "editable": false
            },
            "source": [
                "**Ordering results: `ORDER BY` clause.** You can also order the results. For instance, suppose we want to execute the previous query by number of complaints."
            ]
        },
        {
            "cell_type": "code",
            "execution_count": 20,
            "metadata": {
                "deletable": false,
                "nbgrader": {
                    "grade": false,
                    "locked": true,
                    "solution": false
                },
                "nbpresent": {
                    "id": "2f09ad6d-3920-465c-ac44-6438fc3f3ee5"
                },
                "editable": false
            },
            "outputs": [],
            "source": [
                "query = '''\n",
                "  SELECT Agency, COUNT(*) AS NumComplaints\n",
                "    FROM data\n",
                "    GROUP BY UPPER(Agency)\n",
                "    ORDER BY NumComplaints\n",
                "'''\n",
                "df = pd.read_sql_query(query, disk_engine)\n",
                "df.tail()"
            ]
        },
        {
            "cell_type": "markdown",
            "metadata": {
                "deletable": false,
                "nbgrader": {
                    "grade": false,
                    "locked": true,
                    "solution": false
                },
                "nbpresent": {
                    "id": "1cb6f520-9cda-49ef-bf62-1863dad7414a"
                },
                "editable": false
            },
            "source": [
                "Note that the above example prints the bottom (tail) of the data frame. You could have also asked for the query results in reverse (descending) order, by prefixing the `ORDER BY` attribute with a `-` (minus) symbol. Alternatively, you can use `DESC` to achieve the same result."
            ]
        },
        {
            "cell_type": "code",
            "execution_count": 21,
            "metadata": {
                "deletable": false,
                "nbgrader": {
                    "grade": false,
                    "locked": true,
                    "solution": false
                },
                "nbpresent": {
                    "id": "304e200a-2d98-482c-8f29-c011ec2c5482"
                },
                "editable": false
            },
            "outputs": [],
            "source": [
                "query = '''\n",
                "  SELECT Agency, COUNT(*) AS NumComplaints\n",
                "    FROM data\n",
                "    GROUP BY UPPER(Agency)\n",
                "    ORDER BY -NumComplaints\n",
                "'''\n",
                "\n",
                "# Alternative: query =\n",
                "'''\n",
                "SELECT Agency, COUNT(*) AS NumComplaints \n",
                "    FROM data \n",
                "    GROUP BY UPPER(Agency)\n",
                "    ORDER BY NumComplaints DESC \n",
                "'''\n",
                "\n",
                "df = pd.read_sql_query(query, disk_engine)\n",
                "df.head()"
            ]
        },
        {
            "cell_type": "markdown",
            "metadata": {
                "deletable": false,
                "nbgrader": {
                    "grade": false,
                    "locked": true,
                    "solution": false
                },
                "nbpresent": {
                    "id": "aeaca6a3-b097-4844-8174-07fca9d185cc"
                },
                "editable": false
            },
            "source": [
                "And of course we can plot all of this data!\n",
                "\n",
                "**Exercise 0** (ungraded). Run the following code cell, which will create an interactive bar chart from the data in the previous query."
            ]
        },
        {
            "cell_type": "code",
            "execution_count": 22,
            "metadata": {
                "deletable": false,
                "nbgrader": {
                    "grade": true,
                    "grade_id": "exercise_0",
                    "locked": true,
                    "points": "0",
                    "schema_version": 1,
                    "solution": false
                },
                "editable": false
            },
            "outputs": [],
            "source": [
                "p = make_barchart(df[:20], 'Agency', 'NumComplaints',\n",
                "                  {'title': 'Top 20 agencies by number of complaints',\n",
                "                   'plot_width': 800, 'plot_height': 320})\n",
                "p.xaxis.major_label_orientation = 0.66\n",
                "show(p)"
            ]
        },
        {
            "cell_type": "markdown",
            "metadata": {
                "deletable": false,
                "nbgrader": {
                    "grade": false,
                    "locked": true,
                    "solution": false
                },
                "nbpresent": {
                    "id": "c2798673-ea3c-4699-a6e3-d260ea898fe7"
                },
                "editable": false
            },
            "source": [
                "**Exercise 1** (2 points). Create a string, `query`, containing an SQL query that will return the number of complaints by type. The columns should be named `type` and `freq`, and the results should be sorted in descending order by `freq`. Also, since we know some complaints use an inconsistent case, for your function convert complaints to lowercase.\n",
                "\n",
                "> What is the most common type of complaint? What, if anything, does it tell you about NYC?"
            ]
        },
        {
            "cell_type": "code",
            "execution_count": 23,
            "metadata": {
                "deletable": false,
                "nbgrader": {
                    "checksum": "02c545e88c5dbdd207e79390140a6648",
                    "grade": false,
                    "grade_id": "complaints",
                    "locked": false,
                    "schema_version": 1,
                    "solution": true
                },
                "nbpresent": {
                    "id": "e295216c-a5d8-498c-884d-a971991f23a0"
                }
            },
            "outputs": [],
            "source": [
                "del query # clears any existing `query` variable; you should define it, below!\n",
                "\n",
                "# Define a variable named `query` containing your solution\n",
                "###\n",
                "### YOUR CODE HERE\n",
                "###\n",
                "\n",
                "# Runs your `query`:\n",
                "df_complaint_freq = pd.read_sql_query(query, disk_engine)\n",
                "df_complaint_freq.head()"
            ]
        },
        {
            "cell_type": "code",
            "execution_count": 24,
            "metadata": {
                "nbgrader": {
                    "grade": true,
                    "grade_id": "complaints_test",
                    "locked": true,
                    "points": "2",
                    "solution": false
                },
                "editable": false,
                "deletable": false
            },
            "outputs": [],
            "source": [
                "# Test cell: `complaints_test`\n",
                "\n",
                "print(\"Top 10 complaints:\")\n",
                "display(df_complaint_freq.head(10))\n",
                "\n",
                "assert set(df_complaint_freq.columns) == {'type', 'freq'}, \"Output columns should be named 'type' and 'freq', not {}\".format(set(df_complaint_freq.columns))\n",
                "\n",
                "soln = ['heat\/hot water', 'street condition', 'street light condition', 'blocked driveway', 'illegal parking', 'unsanitary condition', 'paint\/plaster', 'water system', 'plumbing', 'noise', 'noise - street\/sidewalk', 'traffic signal condition', 'noise - commercial', 'door\/window', 'water leak', 'dirty conditions', 'sewer', 'sanitation condition', 'dof literature request', 'electric', 'rodent', 'flooring\/stairs', 'general construction\/plumbing', 'building\/use', 'broken muni meter', 'general', 'missed collection (all materials)', 'benefit card replacement', 'derelict vehicle', 'noise - vehicle', 'damaged tree', 'consumer complaint', 'derelict vehicles', 'taxi complaint', 'overgrown tree\/branches', 'graffiti', 'snow', 'opinion for the mayor', 'appliance', 'maintenance or facility', 'animal abuse', 'dead tree', 'elevator', 'hpd literature request', 'root\/sewer\/sidewalk condition', 'safety', 'food establishment', 'scrie', 'air quality', 'agency issues', 'construction', 'highway condition', 'other enforcement', 'water conservation', 'sidewalk condition', 'indoor air quality', 'street sign - damaged', 'traffic', 'fire safety director - f58', 'homeless person assistance', 'homeless encampment', 'special enforcement', 'street sign - missing', 'noise - park', 'vending', 'for hire vehicle complaint', 'food poisoning', 'special projects inspection team (spit)', 'hazardous materials', 'electrical', 'dot literature request', 'litter basket \/ request', 'taxi report', 'illegal tree damage', 'dof property - reduction issue', 'unsanitary animal pvt property', 'asbestos', 'lead', 'vacant lot', 'dca \/ doh new license application request', 'street sign - dangling', 'smoking', 'violation of park rules', 'outside building', 'animal in a park', 'noise - helicopter', 'school maintenance', 'dpr internal', 'boilers', 'industrial waste', 'sweeping\/missed', 'overflowing litter baskets', 'non-residential heat', 'curb condition', 'drinking', 'standing water', 'indoor sewage', 'water quality', 'eap inspection - f59', 'derelict bicycle', 'noise - house of worship', 'dca literature request', 'recycling enforcement', 'dof parking - tax exemption', 'broken parking meter', 'request for information', 'taxi compliment', 'unleashed dog', 'urinating in public', 'unsanitary pigeon condition', 'investigations and discipline (iad)', 'bridge condition', 'ferry inquiry', 'bike\/roller\/skate chronic', 'public payphone complaint', 'vector', 'best\/site safety', 'sweeping\/inadequate', 'disorderly youth', 'found property', 'mold', 'senior center complaint', 'fire alarm - reinspection', 'for hire vehicle report', 'city vehicle placard complaint', 'cranes and derricks', 'ferry complaint', 'illegal animal kept as pet', 'posting advertisement', 'harboring bees\/wasps', 'panhandling', 'scaffold safety', 'oem literature request', 'plant', 'bus stop shelter placement', 'collection truck noise', 'beach\/pool\/sauna complaint', 'complaint', 'compliment', 'illegal fireworks', 'fire alarm - modification', 'dep literature request', 'drinking water', 'fire alarm - new system', 'poison ivy', 'bike rack condition', 'emergency response team (ert)', 'municipal parking facility', 'tattooing', 'unsanitary animal facility', 'animal facility - no permit', 'miscellaneous categories', 'misc. comments', 'literature request', 'special natural area district (snad)', 'highway sign - damaged', 'public toilet', 'adopt-a-basket', 'ferry permit', 'invitation', 'window guard', 'parking card', 'illegal animal sold', 'stalled sites', 'open flame permit', 'overflowing recycling baskets', 'highway sign - missing', 'public assembly', 'dpr literature request', 'fire alarm - addition', 'lifeguard', 'transportation provider complaint', 'dfta literature request', 'bottled water', 'highway sign - dangling', 'dhs income savings requirement', 'legal services provider complaint', 'foam ban enforcement', 'tunnel condition', 'calorie labeling', 'fire alarm - replacement', 'x-ray machine\/equipment', 'sprinkler - mechanical', 'hazmat storage\/use', 'tanning', 'radioactive material', 'rangehood', 'squeegee', 'srde', 'building condition', 'sg-98', 'standpipe - mechanical', 'agency', 'forensic engineering', 'public assembly - temporary', 'vacant apartment', 'laboratory', 'sg-99']\n",
                "assert all(soln[:25] == df_complaint_freq['type'].iloc[:25])\n",
                "assert df_complaint_freq.shape[0] == len(soln), 'Output has {} rows while the instructor solution has {} rows'.format(df_complaint_freq.shape[0], len(soln))\n",
                "\n",
                "print(\"\\n(Passed.)\")"
            ]
        },
        {
            "cell_type": "markdown",
            "metadata": {
                "deletable": false,
                "nbgrader": {
                    "grade": false,
                    "locked": true,
                    "solution": false
                },
                "nbpresent": {
                    "id": "044baaf9-9926-4afb-9e03-85073ca711c3"
                },
                "editable": false
            },
            "source": [
                "Let's also visualize the result, as a bar chart showing complaint types on the x-axis and the number of complaints on the y-axis."
            ]
        },
        {
            "cell_type": "code",
            "execution_count": 25,
            "metadata": {
                "deletable": false,
                "nbgrader": {
                    "grade": false,
                    "locked": true,
                    "solution": false
                },
                "nbpresent": {
                    "id": "e61968e4-5052-4825-9c07-d5221f507ed2"
                },
                "editable": false
            },
            "outputs": [],
            "source": [
                "p = make_barchart(df_complaint_freq[:25], 'type', 'freq',\n",
                "                  {'title': 'Top 25 complaints by type',\n",
                "                   'plot_width': 800, 'plot_height': 320})\n",
                "p.xaxis.major_label_orientation = 0.66\n",
                "show(p)"
            ]
        },
        {
            "cell_type": "markdown",
            "metadata": {
                "deletable": false,
                "nbgrader": {
                    "grade": false,
                    "locked": true,
                    "solution": false
                },
                "nbpresent": {
                    "id": "887dcef2-10b4-4cbb-a282-ad93dd89332c"
                },
                "editable": false
            },
            "source": [
                "# Lesson 3: More SQL stuff"
            ]
        },
        {
            "cell_type": "markdown",
            "metadata": {
                "deletable": false,
                "nbgrader": {
                    "grade": false,
                    "locked": true,
                    "solution": false
                },
                "nbpresent": {
                    "id": "13ad6402-b7cf-4426-8a8f-6758fa07aec0"
                },
                "editable": false
            },
            "source": [
                "**Simple substring matching: the `LIKE` operator.** Suppose we just want to look at the counts for all complaints that have the word `noise` in them. You can use the `LIKE` operator combined with the string wildcard, `%`, to look for case-insensitive substring matches."
            ]
        },
        {
            "cell_type": "code",
            "execution_count": 26,
            "metadata": {
                "deletable": false,
                "nbgrader": {
                    "grade": false,
                    "locked": true,
                    "solution": false
                },
                "nbpresent": {
                    "id": "cdc97977-5b18-4e09-aa88-49458e4f6921"
                },
                "editable": false
            },
            "outputs": [],
            "source": [
                "query = '''\n",
                "  SELECT LOWER(ComplaintType) AS type, COUNT(*) AS freq\n",
                "    FROM data\n",
                "    WHERE LOWER(ComplaintType) LIKE '%noise%'\n",
                "    GROUP BY type\n",
                "    ORDER BY -freq\n",
                "'''\n",
                "\n",
                "df_noisy = pd.read_sql_query(query, disk_engine)\n",
                "print(\"Found {} queries with 'noise' in them.\".format(len(df_noisy)))\n",
                "df_noisy"
            ]
        },
        {
            "cell_type": "markdown",
            "metadata": {
                "deletable": false,
                "nbgrader": {
                    "grade": false,
                    "locked": true,
                    "solution": false
                },
                "nbpresent": {
                    "id": "e86be66c-aec9-4135-8f3e-b7fabaa2e800"
                },
                "editable": false
            },
            "source": [
                "**Exercise 2** (2 points). Create a string variable, `query`, that contains an SQL query that will return the top 10 cities with the largest number of complaints, in descending order. It should return a table with two columns, one named `name` holding the name of the city, and one named `freq` holding the number of complaints by that city. \n",
                "\n",
                "Like complaint types, cities are not capitalized consistently. Therefore, standardize the city names by converting them to **uppercase**."
            ]
        },
        {
            "cell_type": "code",
            "execution_count": 27,
            "metadata": {
                "deletable": false,
                "nbgrader": {
                    "checksum": "1360beba933bca514fb725bb499e512a",
                    "grade": false,
                    "grade_id": "whiny_cities",
                    "locked": false,
                    "schema_version": 1,
                    "solution": false
                },
                "nbpresent": {
                    "id": "c18e68d3-61ed-4258-8e1b-aac0e538bca4"
                }
            },
            "outputs": [],
            "source": [
                "del query # define a new `query` variable, below\n",
                "\n",
                "# Define your `query`, here:\n",
                "###\n",
                "### YOUR CODE HERE\n",
                "###\n",
                "\n",
                "# Runs your `query`:\n",
                "df_whiny_cities = pd.read_sql_query(query, disk_engine)\n",
                "df_whiny_cities"
            ]
        },
        {
            "cell_type": "markdown",
            "metadata": {
                "deletable": false,
                "nbgrader": {
                    "grade": false,
                    "locked": true,
                    "solution": false
                },
                "editable": false
            },
            "source": [
                "Brooklynites are \"vocal\" about their issues, evidently."
            ]
        },
        {
            "cell_type": "code",
            "execution_count": 28,
            "metadata": {
                "deletable": false,
                "nbgrader": {
                    "checksum": "134dd8ec7fdcb89fca3685b9a4cc7722",
                    "grade": true,
                    "grade_id": "whiny_cities__test",
                    "locked": true,
                    "points": 2,
                    "schema_version": 1,
                    "solution": false
                },
                "nbpresent": {
                    "id": "2cb6a7f7-2e1c-4d88-aef6-ea93a256fc17"
                },
                "editable": false
            },
            "outputs": [],
            "source": [
                "# Test cell: `whiny_cities__test`\n",
                "\n",
                "assert df_whiny_cities['name'][0] == 'BROOKLYN'\n",
                "assert df_whiny_cities['name'][1] == 'NEW YORK'\n",
                "assert df_whiny_cities['name'][2] == 'BRONX'\n",
                "assert df_whiny_cities['name'][3] is None\n",
                "assert df_whiny_cities['name'][4] == 'STATEN ISLAND'\n",
                "\n",
                "print (\"\\n(Passed partial test.)\")"
            ]
        },
        {
            "cell_type": "markdown",
            "metadata": {
                "deletable": false,
                "nbgrader": {
                    "grade": false,
                    "locked": true,
                    "solution": false
                },
                "nbpresent": {
                    "id": "dc4f178f-e10c-48e3-9b89-e3864b1bd2b9"
                },
                "editable": false
            },
            "source": [
                "**Case-insensitive grouping: `COLLATE NOCASE`.** Another way to carry out the preceding query in a case-insensitive way is to add a `COLLATE NOCASE` qualifier to the `GROUP BY` clause.\n",
                "\n",
                "The next example demonstrates this clause. Note that it also filters out the 'None' cases, where the `<>` operator denotes \"not equal to.\" Lastly, this query ensures that the returned city names are uppercase.\n",
                "\n",
                "> The `COLLATE NOCASE` clause modifies the column next to which it appears. So if you are grouping by more than one key and want to be case-insensitive, you need to write, `... GROUP BY ColumnA COLLATE NOCASE, ColumnB COLLATE NOCASE ...`."
            ]
        },
        {
            "cell_type": "code",
            "execution_count": 29,
            "metadata": {
                "deletable": false,
                "nbgrader": {
                    "grade": false,
                    "locked": true,
                    "solution": false
                },
                "nbpresent": {
                    "id": "224ca27b-cf76-47d5-a914-918d217aa2d4"
                },
                "editable": false
            },
            "outputs": [],
            "source": [
                "query = '''\n",
                "  SELECT UPPER(City) AS name, COUNT(*) AS freq\n",
                "    FROM data\n",
                "    WHERE name <> 'None'\n",
                "    GROUP BY City COLLATE NOCASE\n",
                "    ORDER BY -freq\n",
                "    LIMIT 10\n",
                "'''\n",
                "df_whiny_cities2 = pd.read_sql_query(query, disk_engine)\n",
                "df_whiny_cities2"
            ]
        },
        {
            "cell_type": "markdown",
            "metadata": {
                "deletable": false,
                "nbgrader": {
                    "grade": false,
                    "locked": true,
                    "solution": false
                },
                "nbpresent": {
                    "id": "806365e8-6902-48d4-b0b8-eef52f8149eb"
                },
                "editable": false
            },
            "source": [
                "Lastly, for later use, let's save the names of just the top seven (7) cities by numbers of complaints."
            ]
        },
        {
            "cell_type": "code",
            "execution_count": 30,
            "metadata": {
                "deletable": false,
                "nbgrader": {
                    "grade": false,
                    "locked": true,
                    "solution": false
                },
                "nbpresent": {
                    "id": "1d631691-ecf6-4b06-b040-ccdef6216d7f"
                },
                "editable": false
            },
            "outputs": [],
            "source": [
                "TOP_CITIES = list(df_whiny_cities2.head(7)['name'])\n",
                "TOP_CITIES"
            ]
        },
        {
            "cell_type": "markdown",
            "metadata": {
                "deletable": false,
                "nbgrader": {
                    "grade": false,
                    "locked": true,
                    "solution": false
                },
                "nbpresent": {
                    "id": "28e3107b-1c28-4cb5-b939-ceb17b2b7797"
                },
                "editable": false
            },
            "source": [
                "**Exercise 3** (1 point). Implement a function that takes a list of strings, `str_list`, and returns a single string consisting of each value, `str_list[i]`, enclosed by double-quotes and separated by a comma-space delimiters. For example, if\n",
                "\n",
                "```python\n",
                "   assert str_list == ['a', 'b', 'c', 'd']\n",
                "```\n",
                "\n",
                "then\n",
                "\n",
                "```python\n",
                "   assert strs_to_args(str_list) == '\"a\", \"b\", \"c\", \"d\"'\n",
                "```\n",
                "\n",
                "> **Tip.** Try to avoid manipulating the input `str_list` directly and returning the updated `str_list`. This may result in your function adding `\"\"` to the strings in your list each time the function is used (which will be more than once in this notebook!)"
            ]
        },
        {
            "cell_type": "code",
            "execution_count": 31,
            "metadata": {
                "collapsed": true,
                "deletable": false,
                "nbgrader": {
                    "checksum": "7442fc9df222086ca28971e94bfd9f74",
                    "grade": false,
                    "grade_id": "strs_to_args",
                    "locked": false,
                    "schema_version": 1,
                    "solution": true
                },
                "nbpresent": {
                    "id": "c43f2173-4a9f-48c2-8c3f-2a0fafaa8487"
                }
            },
            "outputs": [],
            "source": [
                "def strs_to_args(str_list):\n",
                "    assert type (str_list) is list\n",
                "    assert all ([type (s) is str for s in str_list])\n",
                "    ###\n",
                "    ### YOUR CODE HERE\n",
                "    ###\n"
            ]
        },
        {
            "cell_type": "code",
            "execution_count": 32,
            "metadata": {
                "deletable": false,
                "nbgrader": {
                    "checksum": "97d71d1cd959303e8da89843e4a57623",
                    "grade": true,
                    "grade_id": "strs_to_args__test",
                    "locked": true,
                    "points": 1,
                    "schema_version": 1,
                    "solution": false
                },
                "nbpresent": {
                    "id": "8e2b525d-2a5e-466f-928a-d41cc00caa49"
                },
                "scrolled": true,
                "editable": false
            },
            "outputs": [],
            "source": [
                "# Test cell: `strs_to_args__test`\n",
                "\n",
                "print (\"Your solution, applied to TOP_CITIES:\", strs_to_args(TOP_CITIES))\n",
                "\n",
                "TOP_CITIES_as_args = strs_to_args(TOP_CITIES)\n",
                "assert TOP_CITIES_as_args == \\\n",
                "       '\"BROOKLYN\", \"NEW YORK\", \"BRONX\", \"STATEN ISLAND\", \"Jamaica\", \"Flushing\", \"ASTORIA\"'.upper()\n",
                "assert TOP_CITIES == list(df_whiny_cities2.head(7)['name']), \\\n",
                "       \"Does your implementation cause the `TOP_CITIES` variable to change? If so, you need to fix that.\"\n",
                "    \n",
                "print (\"\\n(Passed.)\")"
            ]
        },
        {
            "cell_type": "markdown",
            "metadata": {
                "deletable": false,
                "nbgrader": {
                    "grade": false,
                    "locked": true,
                    "solution": false
                },
                "nbpresent": {
                    "id": "3286ec81-ea7b-4693-a5d9-84100e1cf922"
                },
                "editable": false
            },
            "source": [
                "**Exercise 4** (3 points). Suppose we want to look at the number of complaints by type _and_ by city **for only the top cities**, i.e., those in the list `TOP_CITIES` computed above. Execute an SQL query to produce a tibble named `df_complaints_by_city` with the variables {`complaint_type`, `city_name`, `complaint_count`}.\n",
                "\n",
                "In your output `DataFrame`, convert all city names to uppercase and convert all complaint types to lowercase."
            ]
        },
        {
            "cell_type": "code",
            "execution_count": 33,
            "metadata": {
                "deletable": false,
                "nbgrader": {
                    "checksum": "678fce2c1c227a8e94d34045f548da32",
                    "grade": false,
                    "grade_id": "df_complaints_by_city",
                    "locked": false,
                    "schema_version": 1,
                    "solution": true
                },
                "nbpresent": {
                    "id": "2e529060-0407-4e54-871c-e8220c567e7d"
                },
                "scrolled": true
            },
            "outputs": [],
            "source": [
                "###\n",
                "### YOUR CODE HERE\n",
                "###\n",
                "\n",
                "# Previews the results of your query:\n",
                "print(\"Found {} records.\".format(len(df_complaints_by_city)))\n",
                "display(df_complaints_by_city.head(10))"
            ]
        },
        {
            "cell_type": "code",
            "execution_count": 34,
            "metadata": {
                "deletable": false,
                "nbgrader": {
                    "checksum": "2c60ed9d8fd234544a16c52da1931414",
                    "grade": true,
                    "grade_id": "df_complaints_by_city__test",
                    "locked": true,
                    "points": 3,
                    "schema_version": 1,
                    "solution": false
                },
                "nbpresent": {
                    "id": "e025ec55-5163-496d-881d-e35ab0730926"
                },
                "editable": false
            },
            "outputs": [],
            "source": [
                "# Test cell: `df_complaints_by_city__test`\n",
                "\n",
                "print(\"Reading instructor's solution...\")\n",
                "if False:\n",
                "    df_complaints_by_city.to_csv(get_path('df_complaints_by_city_soln.csv'), index=False)\n",
                "df_complaints_by_city_soln = pd.read_csv(get_path('df_complaints_by_city_soln.csv'))\n",
                "\n",
                "print(\"Checking...\")\n",
                "assert tibbles_are_equivalent(df_complaints_by_city,\n",
                "                              df_complaints_by_city_soln)\n",
                "\n",
                "print(\"\\n(Passed.)\")\n",
                "del df_complaints_by_city_soln"
            ]
        },
        {
            "cell_type": "markdown",
            "metadata": {
                "deletable": false,
                "nbgrader": {
                    "grade": false,
                    "locked": true,
                    "solution": false
                },
                "nbpresent": {
                    "id": "6a9f7704-ce8d-421d-8831-e67a1041a54d"
                },
                "editable": false
            },
            "source": [
                "Let's use Bokeh to visualize the results as a stacked bar chart."
            ]
        },
        {
            "cell_type": "code",
            "execution_count": 35,
            "metadata": {
                "deletable": false,
                "nbgrader": {
                    "grade": false,
                    "locked": true,
                    "solution": false
                },
                "nbpresent": {
                    "id": "9ed520ef-1f82-42c9-9cc1-feba81254403"
                },
                "editable": false
            },
            "outputs": [],
            "source": [
                "# Let's consider only the top 25 complaints (by total)\n",
                "top_complaints = df_complaint_freq[:25]\n",
                "print(\"Top complaints:\")\n",
                "display(top_complaints)"
            ]
        },
        {
            "cell_type": "code",
            "execution_count": 36,
            "metadata": {
                "deletable": false,
                "nbgrader": {
                    "grade": false,
                    "locked": true,
                    "solution": false
                },
                "editable": false
            },
            "outputs": [],
            "source": [
                "# Plot subset of data corresponding to the top complaints\n",
                "df_plot = top_complaints.merge(df_complaints_by_city,\n",
                "                               left_on=['type'],\n",
                "                               right_on=['complaint_type'],\n",
                "                               how='left')\n",
                "df_plot.dropna(inplace=True)\n",
                "print(\"Data to plot (first few rows):\")\n",
                "display(df_plot.head())\n",
                "print(\"...\")"
            ]
        },
        {
            "cell_type": "code",
            "execution_count": 37,
            "metadata": {
                "deletable": false,
                "nbgrader": {
                    "grade": false,
                    "locked": true,
                    "solution": false
                },
                "scrolled": true,
                "editable": false
            },
            "outputs": [],
            "source": [
                "# Some code to render a Bokeh stacked bar chart\n",
                "\n",
                "kwargs_figure = {'title': \"Distribution of the top 25 complaints among top 7 cities with the most complaints\",\n",
                "                 'width': 800,\n",
                "                 'height': 400,\n",
                "                 'tools': \"hover,crosshair,pan,box_zoom,wheel_zoom,save,reset,help\"}\n",
                "\n",
                "def plot_complaints_stacked_by_city(df, y='complaint_count'):\n",
                "    p = make_stacked_barchart(df, 'complaint_type', 'city_name', y,\n",
                "                              x_labels=list(top_complaints['type']), bar_labels=TOP_CITIES,\n",
                "                              kwargs_figure=kwargs_figure)\n",
                "    p.xaxis.major_label_orientation = 0.66\n",
                "    from bokeh.models import HoverTool\n",
                "    hover_tool = p.select(dict(type=HoverTool))\n",
                "    hover_tool.tooltips = [(\"y\", \"$y{int}\")]\n",
                "    return p\n",
                "\n",
                "show(plot_complaints_stacked_by_city(df_plot))"
            ]
        },
        {
            "cell_type": "markdown",
            "metadata": {
                "deletable": false,
                "nbgrader": {
                    "grade": false,
                    "locked": true,
                    "solution": false
                },
                "editable": false
            },
            "source": [
                "**Exercise 5** (2 points). Suppose we want to create a different stacked bar plot that shows, for each complaint type $t$ and city $c$, the fraction of all complaints of type $t$ (across all cities, not just the top ones) that occurred in city $c$. Store your result in a dataframe named `df_plot_fraction`. It should have the same columns as `df_plot`, **except** that the `complaint_count` column should be replaced by one named `complaint_frac`, which holds the fractional values.\n",
                "\n",
                "> **Hint.** Everything you need is already in `df_plot`.\n",
                ">\n",
                "> **Note.** The test cell will create the chart in addition to checking your result. Note that the normalized bars will not necessarily add up to 1; why not?"
            ]
        },
        {
            "cell_type": "code",
            "execution_count": 38,
            "metadata": {
                "deletable": false,
                "nbgrader": {
                    "checksum": "f31f52055dbb5923365c3082b1a64e26",
                    "grade": false,
                    "grade_id": "norm_above",
                    "locked": false,
                    "schema_version": 1,
                    "solution": true
                },
                "nbpresent": {
                    "id": "e8ec1c8f-181e-435b-8c52-73efad01e0df"
                }
            },
            "outputs": [],
            "source": [
                "###\n",
                "### YOUR CODE HERE\n",
                "###\n",
                "\n",
                "df_plot_fraction.head()"
            ]
        },
        {
            "cell_type": "code",
            "execution_count": 39,
            "metadata": {
                "deletable": false,
                "nbgrader": {
                    "grade": true,
                    "grade_id": "norm_above_test",
                    "locked": true,
                    "points": 2,
                    "schema_version": 1,
                    "solution": false
                },
                "scrolled": true,
                "editable": false
            },
            "outputs": [],
            "source": [
                "# Test cell: `norm_above_test`\n",
                "\n",
                "df_plot_stacked_fraction = cast(df_plot_fraction, key='city_name', value='complaint_frac')\n",
                "\n",
                "\n",
                "if False:\n",
                "    df_plot_stacked_fraction.to_csv(get_path('df_plot_stacked_fraction_soln.csv'), index=False)\n",
                "\n",
                "show(plot_complaints_stacked_by_city(df_plot_fraction, y='complaint_frac'))\n",
                "\n",
                "def all_tol(x, tol=1e-14):\n",
                "    return all([abs(i) <= tol for i in x])\n",
                "\n",
                "df_plot_fraction_soln = canonicalize_tibble(pd.read_csv(get_path('df_plot_stacked_fraction_soln.csv')))\n",
                "df_plot_fraction_yours = canonicalize_tibble(df_plot_stacked_fraction)\n",
                "\n",
                "nonfloat_cols = df_plot_stacked_fraction.columns.difference(TOP_CITIES)\n",
                "assert tibbles_are_equivalent(df_plot_fraction_yours[nonfloat_cols],\n",
                "                              df_plot_fraction_soln[nonfloat_cols])\n",
                "for c in TOP_CITIES:\n",
                "    assert all(abs(df_plot_fraction_yours[c] - df_plot_fraction_soln[c]) <= 1e-13), \\\n",
                "           \"Fractions for city {} do not match the values we are expecting.\".format(c)\n",
                "\n",
                "print(\"\\n(Passed!)\")"
            ]
        },
        {
            "cell_type": "markdown",
            "metadata": {
                "deletable": false,
                "nbgrader": {
                    "grade": false,
                    "locked": true,
                    "solution": false
                },
                "nbpresent": {
                    "id": "7bf18d88-66cb-449d-8590-a49337d7a7ab"
                },
                "editable": false
            },
            "source": [
                "## Dates and times in SQL\n",
                "\n",
                "Recall that the input data had a column with timestamps corresponding to when someone submitted a complaint. Let's quickly summarize some of the features in SQL and Python for reasoning about these timestamps."
            ]
        },
        {
            "cell_type": "markdown",
            "metadata": {
                "deletable": false,
                "nbgrader": {
                    "grade": false,
                    "locked": true,
                    "solution": false
                },
                "nbpresent": {
                    "id": "37eacdc8-84ad-4d67-8408-9884b7854dbd"
                },
                "editable": false
            },
            "source": [
                "The `CreatedDate` column is actually a specially formatted date and time stamp, where you can query against by comparing to strings of the form, `YYYY-MM-DD hh:mm:ss`.\n",
                "\n",
                "For example, let's look for all complaints on September 15, 2015."
            ]
        },
        {
            "cell_type": "code",
            "execution_count": 40,
            "metadata": {
                "deletable": false,
                "nbgrader": {
                    "grade": false,
                    "locked": true,
                    "solution": false
                },
                "nbpresent": {
                    "id": "cc53c4a5-e993-45ac-8714-a68df87625cd"
                },
                "editable": false
            },
            "outputs": [],
            "source": [
                "query = '''\n",
                "  SELECT LOWER(ComplaintType), CreatedDate, UPPER(City)\n",
                "    from data\n",
                "    where CreatedDate >= \"2015-09-15 00:00:00.0\"\n",
                "      and CreatedDate < \"2015-09-16 00:00:00.0\"\n",
                "    order by CreatedDate\n",
                "'''\n",
                "df = pd.read_sql_query (query, disk_engine)\n",
                "df"
            ]
        },
        {
            "cell_type": "markdown",
            "metadata": {
                "deletable": false,
                "nbgrader": {
                    "grade": false,
                    "locked": true,
                    "solution": false
                },
                "nbpresent": {
                    "id": "0d24847f-3ca6-4458-ac02-8fcb70d382e0"
                },
                "editable": false
            },
            "source": [
                "This next example shows how to extract just the hour from the time stamp, using SQL's `strftime()`."
            ]
        },
        {
            "cell_type": "code",
            "execution_count": 41,
            "metadata": {
                "deletable": false,
                "nbgrader": {
                    "grade": false,
                    "locked": true,
                    "solution": false
                },
                "nbpresent": {
                    "id": "53acb2a8-c0d6-4f11-8512-5de7404fef2a"
                },
                "editable": false
            },
            "outputs": [],
            "source": [
                "query = '''\n",
                "  SELECT CreatedDate, STRFTIME('%H', CreatedDate) AS Hour, LOWER(ComplaintType)\n",
                "    FROM data\n",
                "    LIMIT 5\n",
                "'''\n",
                "df = pd.read_sql_query (query, disk_engine)\n",
                "df"
            ]
        },
        {
            "cell_type": "markdown",
            "metadata": {
                "deletable": false,
                "nbgrader": {
                    "grade": false,
                    "locked": true,
                    "solution": false
                },
                "nbpresent": {
                    "id": "44ed4db0-df35-4547-93aa-5680ad1d5cdf"
                },
                "editable": false
            },
            "source": [
                "**Exercise 6** (3 points). Construct a tibble called `df_complaints_by_hour`, which contains the total number of complaints during a given hour of the day. That is, the variables or column names should be {`hour`, `count`} where each observation is the total number of complaints (`count`) that occurred during a given `hour`.\n",
                "\n",
                "> Interpret `hour` as follows: when `hour` is `02`, that corresponds to the open time interval [`02:00:00`, `03:00:00.0`)."
            ]
        },
        {
            "cell_type": "code",
            "execution_count": 42,
            "metadata": {
                "deletable": false,
                "nbgrader": {
                    "checksum": "0973d1f3d797d1b39d338d2c73905626",
                    "grade": false,
                    "grade_id": "df_complaints_by_hour",
                    "locked": false,
                    "schema_version": 1,
                    "solution": true
                },
                "nbpresent": {
                    "id": "eb10399f-fc01-4283-b1e5-1817de4b7539"
                }
            },
            "outputs": [],
            "source": [
                "# Your task: Construct `df_complaints_by_hour` as directed.\n",
                "###\n",
                "### YOUR CODE HERE\n",
                "###\n",
                "\n",
                "# Displays your answer:\n",
                "display(df_complaints_by_hour)"
            ]
        },
        {
            "cell_type": "code",
            "execution_count": 43,
            "metadata": {
                "deletable": false,
                "nbgrader": {
                    "checksum": "393bdbc3a48e5291e1339710c16ed86a",
                    "grade": true,
                    "grade_id": "df_complaints_by_hour_test",
                    "locked": true,
                    "points": 3,
                    "schema_version": 1,
                    "solution": false
                },
                "nbpresent": {
                    "id": "24e3056d-62c6-4a24-9f3f-b76201cf8754"
                },
                "editable": false
            },
            "outputs": [],
            "source": [
                "# Test cell: `df_complaints_by_hour_test`\n",
                "    \n",
                "print (\"Reading instructor's solution...\")\n",
                "if False:\n",
                "    df_complaints_by_hour_soln.to_csv(get_path('df_complaints_by_hour_soln.csv'), index=False)\n",
                "df_complaints_by_hour_soln = pd.read_csv (get_path('df_complaints_by_hour_soln.csv'))\n",
                "display (df_complaints_by_hour_soln)\n",
                "\n",
                "df_complaints_by_hour_norm = df_complaints_by_hour.copy ()\n",
                "df_complaints_by_hour_norm['hour'] = \\\n",
                "    df_complaints_by_hour_norm['hour'].apply (int)\n",
                "assert tibbles_are_equivalent (df_complaints_by_hour_norm,\n",
                "                               df_complaints_by_hour_soln)\n",
                "print (\"\\n(Passed.)\")"
            ]
        },
        {
            "cell_type": "markdown",
            "metadata": {
                "deletable": false,
                "nbgrader": {
                    "grade": false,
                    "locked": true,
                    "solution": false
                },
                "editable": false
            },
            "source": [
                "Let's take a quick look at the hour-by-hour breakdown above."
            ]
        },
        {
            "cell_type": "code",
            "execution_count": 44,
            "metadata": {
                "deletable": false,
                "nbgrader": {
                    "grade": false,
                    "locked": true,
                    "solution": false
                },
                "nbpresent": {
                    "id": "60bd03aa-679c-4be1-aaed-ec5d22115272"
                },
                "editable": false
            },
            "outputs": [],
            "source": [
                "p = make_barchart(df_complaints_by_hour, 'hour', 'count',\n",
                "                  {'title': 'Complaints by hour',\n",
                "                   'plot_width': 800, 'plot_height': 320})\n",
                "show(p)"
            ]
        },
        {
            "cell_type": "markdown",
            "metadata": {
                "deletable": false,
                "nbgrader": {
                    "grade": false,
                    "locked": true,
                    "solution": false
                },
                "nbpresent": {
                    "id": "674c54f7-dd78-4f01-af25-9bef67a44833"
                },
                "editable": false
            },
            "source": [
                "An unusual aspect of these data are the excessively large number of reports associated with hour 0 (midnight up to but excluding 1 am), which would probably strike you as suspicious. Indeed, the reason is that there are some complaints that are dated but with no associated time, which was recorded in the data as exactly `00:00:00.000`."
            ]
        },
        {
            "cell_type": "code",
            "execution_count": 45,
            "metadata": {
                "deletable": false,
                "nbgrader": {
                    "grade": false,
                    "locked": true,
                    "solution": false
                },
                "nbpresent": {
                    "id": "20a45c3b-927f-4085-bcd8-9ee389d78219"
                },
                "editable": false
            },
            "outputs": [],
            "source": [
                "query = '''\n",
                "  SELECT COUNT(*)\n",
                "    FROM data\n",
                "    WHERE STRFTIME('%H:%M:%f', CreatedDate) = '00:00:00.000'\n",
                "'''\n",
                "\n",
                "pd.read_sql_query(query, disk_engine)"
            ]
        },
        {
            "cell_type": "markdown",
            "metadata": {
                "deletable": false,
                "nbgrader": {
                    "grade": false,
                    "locked": true,
                    "solution": false
                },
                "nbpresent": {
                    "id": "e9ec9d63-dcdc-4df7-a0c9-aeefd333cd66"
                },
                "editable": false
            },
            "source": [
                "**Exercise 7** (2 points). What is the most common hour for noise complaints? Compute a tibble called `df_noisy_by_hour` whose variables are {`hour`, `count`} and whose observations are the number of noise complaints that occurred during a given `hour`. Consider a \"noise complaint\" to be any complaint string containing the word `noise`. Be sure to filter out any dates _without_ an associated time, i.e., a timestamp of `00:00:00.000`."
            ]
        },
        {
            "cell_type": "code",
            "execution_count": 46,
            "metadata": {
                "deletable": false,
                "nbgrader": {
                    "checksum": "2519d05a9f7b18466b152d20b0be88c9",
                    "grade": false,
                    "grade_id": "df_noisy_by_hour",
                    "locked": false,
                    "schema_version": 1,
                    "solution": true
                },
                "nbpresent": {
                    "id": "d61ad646-a163-4de6-a1ff-e3b983f00d99"
                }
            },
            "outputs": [],
            "source": [
                "###\n",
                "### YOUR CODE HERE\n",
                "###\n",
                "\n",
                "display(df_noisy_by_hour)"
            ]
        },
        {
            "cell_type": "code",
            "execution_count": 47,
            "metadata": {
                "deletable": false,
                "nbgrader": {
                    "checksum": "bb7bf35e08281fcf0d874bbcf5f1d4fa",
                    "grade": true,
                    "grade_id": "df_noisy_by_hour_test",
                    "locked": true,
                    "points": 2,
                    "schema_version": 1,
                    "solution": false
                },
                "nbpresent": {
                    "id": "2a0c6d57-1438-496d-8ad0-c9e691a2e464"
                },
                "editable": false
            },
            "outputs": [],
            "source": [
                "# Test cell: `df_noisy_by_hour_test`\n",
                "\n",
                "print (\"Reading instructor's solution...\")\n",
                "if False:\n",
                "    df_noisy_by_hour.to_csv(get_path('df_noisy_by_hour_soln.csv'), index=False)\n",
                "df_noisy_by_hour_soln = pd.read_csv (get_path('df_noisy_by_hour_soln.csv'))\n",
                "display(df_noisy_by_hour_soln)\n",
                "\n",
                "df_noisy_by_hour_norm = df_noisy_by_hour.copy()\n",
                "df_noisy_by_hour_norm['hour'] = \\\n",
                "    df_noisy_by_hour_norm['hour'].apply(int)\n",
                "assert tibbles_are_equivalent (df_noisy_by_hour_norm,\n",
                "                               df_noisy_by_hour_soln)\n",
                "print (\"\\n(Passed.)\")"
            ]
        },
        {
            "cell_type": "code",
            "execution_count": 48,
            "metadata": {
                "deletable": false,
                "nbgrader": {
                    "grade": false,
                    "locked": true,
                    "solution": false
                },
                "nbpresent": {
                    "id": "9850fa6b-d951-4f9f-9d23-c8243a75487c"
                },
                "editable": false
            },
            "outputs": [],
            "source": [
                "p = make_barchart(df_noisy_by_hour, 'hour', 'count',\n",
                "                  {'title': 'Noise complaints by hour',\n",
                "                   'plot_width': 800, 'plot_height': 320})\n",
                "show(p)"
            ]
        },
        {
            "cell_type": "markdown",
            "metadata": {
                "deletable": false,
                "nbgrader": {
                    "grade": false,
                    "locked": true,
                    "solution": false
                },
                "nbpresent": {
                    "id": "5e81087c-d19d-497b-9d5c-1a614527a025"
                },
                "editable": false
            },
            "source": [
                "**Exercise 8** (ungraded). Create a line chart to show the fraction of complaints (y-axis) associated with each hour of the day (x-axis), with each complaint type shown as a differently colored line. Show just the top 5 complaints (`top_complaints[:5]`). Remember to exclude complaints with a zero-timestamp (i.e., `00:00:00.000`).\n",
                "\n",
                "> **Note.** This exercise is ungraded but if your time permits, please give it a try! Feel free to discuss your approaches to this problem on the discussion forums (but do try to do it yourself first). One library you may find useful to try out is holoviews (http:\/\/holoviews.org\/index.html)"
            ]
        },
        {
            "cell_type": "code",
            "execution_count": null,
            "metadata": {
                "deletable": false,
                "nbgrader": {
                    "checksum": "280124f2ac984097c40d682f7a7af997",
                    "grade": false,
                    "grade_id": "complaint_types_by_hour",
                    "locked": false,
                    "points": 0,
                    "schema_version": 1,
                    "solution": false
                },
                "nbpresent": {
                    "id": "396c64c5-fcdb-49dc-9c7b-dddd10cc8d2e"
                }
            },
            "outputs": [],
            "source": [
                "import holoviews as hv\n",
                "hv.extension('bokeh')\n",
                "from holoviews import Bars\n",
                "\n",
                "###\n",
                "### YOUR CODE HERE\n",
                "###\n"
            ]
        },
        {
            "cell_type": "markdown",
            "metadata": {
                "deletable": false,
                "nbgrader": {
                    "grade": false,
                    "locked": true,
                    "solution": false
                },
                "nbpresent": {
                    "id": "5f08feb8-ec73-4c71-9f22-9c9f2d00b418"
                },
                "editable": false
            },
            "source": [
                "### Learn more\n",
                "\n",
                "- Find more open data sets on [Data.gov](https:\/\/data.gov) and [NYC Open Data](https:\/\/nycopendata.socrata.com)\n",
                "- Learn how to setup [MySql with Pandas and Plotly](http:\/\/moderndata.plot.ly\/graph-data-from-mysql-database-in-python\/)\n",
                "- Big data workflows with [HDF5 and Pandas](http:\/\/stackoverflow.com\/questions\/14262433\/large-data-work-flows-using-pandas)"
            ]
        }
    ],
    "metadata": {
        "anaconda-cloud": [],
        "celltoolbar": "Create Assignment",
        "kernelspec": {
            "display_name": "Python 3.8",
            "language": "python",
            "name": "python38"
        },
        "language_info": {
            "codemirror_mode": {
                "name": "ipython",
                "version": 3
            },
            "file_extension": ".py",
            "mimetype": "text\/x-python",
            "name": "python",
            "nbconvert_exporter": "python",
            "pygments_lexer": "ipython3",
            "version": "3.8.7"
        },
        "nbpresent": {
            "slides": {
                "44693b5c-1b6d-4a8a-93dd-9c739ac5f85b": {
                    "id": "44693b5c-1b6d-4a8a-93dd-9c739ac5f85b",
                    "prev": null,
                    "regions": {
                        "f1a0724d-d92a-4c41-8b5c-9d5becd385c6": {
                            "attrs": {
                                "height": 1,
                                "width": 1,
                                "x": 0.024495214835409,
                                "y": -0.019794140456002
                            },
                            "id": "f1a0724d-d92a-4c41-8b5c-9d5becd385c6"
                        }
                    }
                }
            },
            "themes": []
        }
    },
    "nbformat": 4,
    "nbformat_minor": 1
}