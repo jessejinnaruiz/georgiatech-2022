{
    "cells": [
        {
            "cell_type": "markdown",
            "metadata": {
                "nbgrader": {
                    "grade": false,
                    "grade_id": "cell-a30f6a2123d4900b",
                    "locked": true,
                    "schema_version": 1,
                    "solution": false
                },
                "editable": false,
                "deletable": false
            },
            "source": [
                "# Part 1: Gradients example\n",
                "\n",
                "This notebook is designed to illustrate the concept of the gradient.\n",
                "\n",
                "Let $x \\equiv \\left[\\begin{matrix} x_0 \\\\ x_1 \\end{matrix}\\right]$ be a two-dimensional vector, and let\n",
                "$$\n",
                "  f(x) \\, \\equiv \\, x^T x \\, = \\, x_0^2 + x_1^2.\n",
                "$$\n",
                "\n",
                "**Exercise 0** (1 point). Implement the Python function, `f(x0, x1)`, so that it computes $f(x)$."
            ]
        },
        {
            "cell_type": "code",
            "execution_count": null,
            "metadata": {
                "collapsed": true,
                "nbgrader": {
                    "grade": false,
                    "grade_id": "f",
                    "locked": false,
                    "schema_version": 1,
                    "solution": true
                }
            },
            "outputs": [],
            "source": [
                "def f(x0, x1):\n",
                "    ###\n",
                "    ### YOUR CODE HERE\n",
                "    ###\n"
            ]
        },
        {
            "cell_type": "code",
            "execution_count": null,
            "metadata": {
                "nbgrader": {
                    "grade": true,
                    "grade_id": "f_test",
                    "locked": true,
                    "points": 1,
                    "schema_version": 1,
                    "solution": false
                },
                "editable": false,
                "deletable": false
            },
            "outputs": [],
            "source": [
                "# Test cell: `f_test`\n",
                "\n",
                "from numpy import sin, cos, vectorize, isclose\n",
                "from numpy.random import randn\n",
                "\n",
                "f_vec = vectorize(f)\n",
                "theta = randn(1000)\n",
                "assert all(isclose(f_vec(sin(theta), cos(theta)), 1.0))\n",
                "\n",
                "print(\"\\n(Passed!)\")"
            ]
        },
        {
            "cell_type": "markdown",
            "metadata": {
                "nbgrader": {
                    "grade": false,
                    "grade_id": "cell-ec6372128cb981f0",
                    "locked": true,
                    "schema_version": 1,
                    "solution": false
                },
                "editable": false,
                "deletable": false
            },
            "source": [
                "## The gradient\n",
                "\n",
                "Let's create a mesh of $[x_0, x_1]$ coordinate values:"
            ]
        },
        {
            "cell_type": "code",
            "execution_count": null,
            "metadata": {
                "collapsed": true,
                "nbgrader": {
                    "grade": false,
                    "grade_id": "cell-d0e470132984f816",
                    "locked": true,
                    "schema_version": 1,
                    "solution": false
                },
                "editable": false,
                "deletable": false
            },
            "outputs": [],
            "source": [
                "from numpy import linspace, meshgrid\n",
                "x0 = linspace(-2, 2, 11)\n",
                "x1 = linspace(-2, 2, 11)\n",
                "X0, X1 = meshgrid(x0, x1)"
            ]
        },
        {
            "cell_type": "code",
            "execution_count": null,
            "metadata": {
                "nbgrader": {
                    "grade": false,
                    "grade_id": "cell-12872e3f445575fc",
                    "locked": true,
                    "schema_version": 1,
                    "solution": false
                },
                "editable": false,
                "deletable": false
            },
            "outputs": [],
            "source": [
                "print(\"X0:\\n\", X0)\n",
                "print(\"X1:\\n\", X1)"
            ]
        },
        {
            "cell_type": "markdown",
            "metadata": {
                "nbgrader": {
                    "grade": false,
                    "grade_id": "cell-25c04314669bf971",
                    "locked": true,
                    "schema_version": 1,
                    "solution": false
                },
                "editable": false,
                "deletable": false
            },
            "source": [
                "Apply `f()` to each of the points in the mesh:"
            ]
        },
        {
            "cell_type": "code",
            "execution_count": null,
            "metadata": {
                "nbgrader": {
                    "grade": false,
                    "grade_id": "cell-66097c1e92ffaa80",
                    "locked": true,
                    "schema_version": 1,
                    "solution": false
                },
                "editable": false,
                "deletable": false
            },
            "outputs": [],
            "source": [
                "Z = f_vec(X0, X1)\n",
                "print(\"Z:\\n\", Z)"
            ]
        },
        {
            "cell_type": "markdown",
            "metadata": {
                "nbgrader": {
                    "grade": false,
                    "grade_id": "cell-e7b2e30be132773d",
                    "locked": true,
                    "schema_version": 1,
                    "solution": false
                },
                "editable": false,
                "deletable": false
            },
            "source": [
                "Plot `Z[:, :]` as a three-dimensional surface:"
            ]
        },
        {
            "cell_type": "code",
            "execution_count": null,
            "metadata": {
                "nbgrader": {
                    "grade": false,
                    "grade_id": "cell-1c560eac41b673c7",
                    "locked": true,
                    "schema_version": 1,
                    "solution": false
                },
                "editable": false,
                "deletable": false
            },
            "outputs": [],
            "source": [
                "from mpl_toolkits.mplot3d import Axes3D\n",
                "from matplotlib.pyplot import figure, xlabel, ylabel\n",
                "%matplotlib inline\n",
                "\n",
                "fig = figure(figsize=(10, 5))\n",
                "\n",
                "ax3d = fig.add_subplot(121, projection='3d')\n",
                "ax3d.plot_wireframe(X0, X1, Z)\n",
                "xlabel('x0')\n",
                "ylabel('x1')\n",
                "\n",
                "ax2d = fig.add_subplot(122)\n",
                "cp = ax2d.contour(X0, X1, Z)\n",
                "xlabel('x0')\n",
                "ylabel('x1')"
            ]
        },
        {
            "cell_type": "markdown",
            "metadata": {
                "nbgrader": {
                    "grade": false,
                    "grade_id": "cell-92917235a57d516b",
                    "locked": true,
                    "schema_version": 1,
                    "solution": false
                },
                "editable": false,
                "deletable": false
            },
            "source": [
                "The gradient of $f(x)$ with respect to $x$ is\n",
                "$$\n",
                "  \\nabla_{\\!x} \\, f(x)\n",
                "  \\, \\equiv \\,\n",
                "    \\left[\\begin{matrix}\n",
                "       \\dfrac{\\partial f}{\\partial x_0} \\\\\n",
                "       \\dfrac{\\partial f}{\\partial x_1}\n",
                "    \\end{matrix}\\right]\n",
                "  \\, = \\,\n",
                "    \\left[\\begin{matrix}\n",
                "      \\dfrac{\\partial}{\\partial x_0} \\left( x_0^2 + x_1^2 \\right) \\\\\n",
                "      \\dfrac{\\partial}{\\partial x_1} \\left( x_0^2 + x_1^2 \\right)\n",
                "    \\end{matrix}\\right]\n",
                "  \\, = \\,\n",
                "    \\left[\\begin{matrix}\n",
                "      2 x_0 \\\\\n",
                "      2 x_1\n",
                "    \\end{matrix}\\right].\n",
                "$$"
            ]
        },
        {
            "cell_type": "markdown",
            "metadata": {},
            "source": [
                "**Exercise 1** (1 point). Implement a function, `grad_f(x0, x1)`, that implements the gradient $\\nabla_{\\!x} \\, f(x)$ shown above. It should return a pair of values since the gradient for this $f(x)$ has two components."
            ]
        },
        {
            "cell_type": "code",
            "execution_count": null,
            "metadata": {
                "collapsed": true,
                "nbgrader": {
                    "grade": false,
                    "grade_id": "grad_f",
                    "locked": false,
                    "schema_version": 1,
                    "solution": true
                }
            },
            "outputs": [],
            "source": [
                "def grad_f(x0, x1):\n",
                "    ###\n",
                "    ### YOUR CODE HERE\n",
                "    ###\n"
            ]
        },
        {
            "cell_type": "code",
            "execution_count": null,
            "metadata": {
                "nbgrader": {
                    "grade": true,
                    "grade_id": "grad_f_test",
                    "locked": true,
                    "points": 1,
                    "schema_version": 1,
                    "solution": false
                },
                "editable": false,
                "deletable": false
            },
            "outputs": [],
            "source": [
                "# Test cell: `grad_f_test`\n",
                "\n",
                "grad_f_vec = vectorize(grad_f)\n",
                "z = randn(5)\n",
                "gx, gy = grad_f_vec(z, -z)\n",
                "assert all(isclose(gx*0.5, z)) and all(isclose(gy*(-0.5), z)), \"Your function might have a bug...\"\n",
                "\n",
                "print(\"\\n(Passed!)\")"
            ]
        },
        {
            "cell_type": "markdown",
            "metadata": {
                "nbgrader": {
                    "grade": false,
                    "grade_id": "cell-483870036a752454",
                    "locked": true,
                    "schema_version": 1,
                    "solution": false
                },
                "editable": false,
                "deletable": false
            },
            "source": [
                "## Visualizing the gradient\n",
                "\n",
                "Let's generate and plot $\\nabla_{\\!x} \\, f(x)$:"
            ]
        },
        {
            "cell_type": "code",
            "execution_count": null,
            "metadata": {
                "nbgrader": {
                    "grade": false,
                    "grade_id": "cell-239bd234b283ecea",
                    "locked": true,
                    "schema_version": 1,
                    "solution": false
                },
                "editable": false,
                "deletable": false
            },
            "outputs": [],
            "source": [
                "dX0, dX1 = grad_f(X0, X1)\n",
                "\n",
                "from matplotlib.pyplot import contour, quiver, axis\n",
                "cp = contour (X0, X1, Z)\n",
                "quiver(X0, X1, dX0, dX1, scale=40, headwidth=5)\n",
                "xlabel('x0')\n",
                "ylabel('x1')\n",
                "axis('square')"
            ]
        },
        {
            "cell_type": "markdown",
            "metadata": {
                "collapsed": true,
                "nbgrader": {
                    "grade": false,
                    "grade_id": "cell-63e8f4849f7290ab",
                    "locked": true,
                    "schema_version": 1,
                    "solution": false
                },
                "editable": false,
                "deletable": false
            },
            "source": [
                "**Fin!** If you've gotten this far without errors, your notebook is ready to submit."
            ]
        }
    ],
    "metadata": {
        "celltoolbar": "Create Assignment",
        "kernelspec": {
            "display_name": "Python 3.8",
            "language": "python",
            "name": "python38"
        },
        "language_info": {
            "codemirror_mode": {
                "name": "ipython",
                "version": 3
            },
            "file_extension": ".py",
            "mimetype": "text\/x-python",
            "name": "python",
            "nbconvert_exporter": "python",
            "pygments_lexer": "ipython3",
            "version": "3.8.7"
        }
    },
    "nbformat": 4,
    "nbformat_minor": 2
}